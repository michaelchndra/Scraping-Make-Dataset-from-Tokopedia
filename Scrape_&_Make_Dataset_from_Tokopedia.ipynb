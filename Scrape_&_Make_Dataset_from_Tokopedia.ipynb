{
  "cells": [
    {
      "cell_type": "markdown",
      "metadata": {
        "id": "view-in-github",
        "colab_type": "text"
      },
      "source": [
        "<a href=\"https://colab.research.google.com/github/michaelchndra/Scraping-and-Make-Dataset-from-Tokopedia/blob/main/Scrape_%26_Make_Dataset_from_Tokopedia.ipynb\" target=\"_parent\"><img src=\"https://colab.research.google.com/assets/colab-badge.svg\" alt=\"Open In Colab\"/></a>"
      ]
    },
    {
      "cell_type": "markdown",
      "source": [
        "# **Scrape & Make Dataset from Website Tokopedia**\n",
        "\n",
        "This is an automated method of web scraping, which functions to scrape or take data from the Tokopedia website and then make it into a dataframe. I made this for the needs of my learning project, namely creating an E-commerce AI Chatbot.\n",
        "\n",
        "This scrape method uses the Python language with some help from the Python's library:\n",
        "- **Selenium** to automation scraping process\n",
        "- **Beautiful Soup** to scrape or collect data from websites, and\n",
        "- **Pandas** to transform the data into a dataframe, then save to a csv file.\n",
        "\n",
        "## **Web scraping result**\n",
        "Here is the list of column name and definition in `dataset-tokopedia.csv` file:\n",
        "\n",
        "  |Column Name|Definition                                         |                          \n",
        "|-----------|---------------------------------------------------|\n",
        "|Img    |Image of the product                                   |\n",
        "|Name     |Name of the product                                |\n",
        "|Price      |Price of the product (in IDR)                      |\n",
        "|City       |Location city Shop/Seller of the product                  |      |Lokasi     |City or state of the shop/seller                   |   \n",
        "\n",
        "\n",
        "## **Reference**\n",
        "\n",
        "- [**Github - Hannah2gah**](https://github.com/hannah2gah/web-scraping-tokopedia)\n",
        "- [**Youtube - Yuk Nyistem**](https://youtu.be/ARJ3f0bbcqU?si=XlBnAP52DbSrJx1E)\n",
        "- **My friends at Infinite Learning - IBM Advanced AI, which has helped me improve this code - Filza Rizki Ramadhan**\n",
        "\n",
        "\n",
        "Don't forget to check my [**Github repo**](https://github.com/michaelchndra) :)\n",
        "\n",
        "\n",
        "**Note:**\n",
        "Updates will be made as long as I can and are always in my github repository: [**Here**](https://github.com/michaelchndra/Scraping-and-Make-Dataset-from-Tokopedia).\n",
        "If you encounter a problem or bug, try to solve it yourself, if not, you can let me know via my [social media](https://linktree-mindra.vercel.app)."
      ],
      "metadata": {
        "id": "7hxssjVag5Jc"
      }
    },
    {
      "cell_type": "markdown",
      "source": [
        "###**Install Library & Requirements**"
      ],
      "metadata": {
        "id": "xIONjauBVFvZ"
      }
    },
    {
      "cell_type": "code",
      "execution_count": null,
      "metadata": {
        "id": "bCVeXvPMSnCz"
      },
      "outputs": [],
      "source": [
        "!apt get-update\n",
        "!pip install selenium\n",
        "from selenium.webdriver.common.by import By\n",
        "from selenium import webdriver\n",
        "import time\n",
        "import pandas as pd\n",
        "from selenium.webdriver.chrome.options import Options\n",
        "from bs4 import BeautifulSoup\n",
        "\n",
        "class Scraper:\n",
        "    def __init__(self):\n",
        "        chrome_options = webdriver.ChromeOptions()\n",
        "        self.driver = webdriver.Chrome(options=chrome_options)\n",
        "\n",
        "    def search_product(self, query):\n",
        "        url = f\"https://www.tokopedia.com/search?navsource=&ob=5&srp_component_id=02.01.00.00&srp_page_id=&srp_page_title=&st=product&q={query}\"\n",
        "        self.driver.get(url)\n",
        "        for _ in range(0, 6500, 500):\n",
        "            time.sleep(0.1)\n",
        "            self.driver.execute_script(\"window.scrollBy(0,500)\")\n",
        "\n",
        "        elements = self.driver.find_elements(by=By.XPATH, value=\"//img[@class='css-1q90pod']\")\n",
        "        datas = []\n",
        "        for element in elements:\n",
        "            img = element.get_attribute('src')\n",
        "            name = element.find_element(by=By.CLASS_NAME, value='css-3um8ox').text\n",
        "            price = element.find_element(by=By.CLASS_NAME, value='css-h66vau').text\n",
        "            city = element.find_element(by=By.CLASS_NAME, value='prd_link-shop-loc css-1kdc32b').text\n",
        "            datas.append({\n",
        "                'img': img,\n",
        "                'name': name,\n",
        "                'price': price,\n",
        "                'city': city\n",
        "            })\n",
        "        return datas"
      ]
    },
    {
      "cell_type": "markdown",
      "source": [
        "###**Execute Scrape**"
      ],
      "metadata": {
        "id": "br6jq0RQVVMf"
      }
    },
    {
      "cell_type": "code",
      "execution_count": null,
      "metadata": {
        "id": "f371eW3dSnDB"
      },
      "outputs": [],
      "source": [
        "\n",
        "if __name__ == \"__main__\":\n",
        "    query = input(\"Masukkan query pencarian produk: \")\n",
        "    scraper = Scraper()\n",
        "    datas = scraper.search_product(query)\n",
        "    print(datas)"
      ]
    },
    {
      "cell_type": "markdown",
      "source": [
        "###**Menyimpan Hasil Scrape ke Dataset**"
      ],
      "metadata": {
        "id": "nZRuJx5tVknT"
      }
    },
    {
      "cell_type": "code",
      "source": [
        "    df = pd.DataFrame(datas)\n",
        "    df.to_csv('dataset-tokopedia.csv', index=False, quoting=csv.QUOTE_NONE)\n",
        "\n",
        "    print(\"Data telah disimpan dalam file 'dataset-tokopedia.csv'\")"
      ],
      "metadata": {
        "id": "hV9JX_liVwET"
      },
      "execution_count": null,
      "outputs": []
    }
  ],
  "metadata": {
    "kernelspec": {
      "display_name": "Python 3",
      "language": "python",
      "name": "python3"
    },
    "language_info": {
      "codemirror_mode": {
        "name": "ipython",
        "version": 3
      },
      "file_extension": ".py",
      "mimetype": "text/x-python",
      "name": "python",
      "nbconvert_exporter": "python",
      "pygments_lexer": "ipython3",
      "version": "3.11.3"
    },
    "colab": {
      "provenance": [],
      "include_colab_link": true
    }
  },
  "nbformat": 4,
  "nbformat_minor": 0
}