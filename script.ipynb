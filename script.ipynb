{
  "cells": [
    {
      "cell_type": "markdown",
      "metadata": {
        "id": "Bd_gFEVUxSMM"
      },
      "source": [
        "# **Scrape & Make Dataset from Website Tokopedia**\n",
        "\n",
        "This is an automated method of web scraping, which functions to scrape or take data from the Tokopedia website and then make it into a dataframe. I made this for the needs of my learning project, namely creating an E-commerce AI Chatbot.\n",
        "\n",
        "This scrape method uses the Python language with some help from the Python's library:\n",
        "- **Selenium** to automation scraping process\n",
        "- **Beautiful Soup** to scrape or collect data from websites, and\n",
        "- **Pandas** to transform the data into a dataframe, then save to a csv file.\n",
        "\n",
        "## **Web scraping result**\n",
        "Here is the list of column name and definition in `dataset-tokopedia.csv` & `cleaned_data.csv` file:\n",
        "\n",
        "  |Column Name|Definition                                         |                          \n",
        "|-----------|---------------------------------------------------|\n",
        "|Img    |Image of the product                                   |\n",
        "|Name     |Name of the product                                |\n",
        "|Price      |Price of the product (in IDR)                      |\n",
        "|City       |Location city Shop/Seller of the product                  |      |Lokasi     |City or state of the shop/seller                   |   \n",
        "\n",
        "\n",
        "## **Reference**\n",
        "\n",
        "- [**Github - Hannah2gah**](https://github.com/hannah2gah/web-scraping-tokopedia)\n",
        "- [**Youtube - Yuk Nyistem**](https://youtu.be/ARJ3f0bbcqU?si=XlBnAP52DbSrJx1E)\n",
        "- **My friends at Infinite Learning - IBM Advanced AI, which has helped me improve this code - Filza Rizki Ramadhan**\n",
        "\n",
        "\n",
        "Don't forget to check my [**Github repo**](https://github.com/michaelchndra) :)\n",
        "\n",
        "\n",
        "**Note:**\n",
        "Updates will be made as long as I can and are always in my github repository: [**Here**](https://github.com/michaelchndra/Scraping-and-Make-Dataset-from-Tokopedia).\n",
        "If you encounter a problem or bug, try to solve it yourself, if not, you can let me know via my [social media](https://linktree-mindra.vercel.app)."
      ]
    },
    {
      "cell_type": "markdown",
      "metadata": {
        "id": "J-bNrgEAxSMR"
      },
      "source": [
        "### **Install Library and Requirements**"
      ]
    },
    {
      "cell_type": "code",
      "execution_count": null,
      "metadata": {
        "id": "2Z14iwrnxSMS"
      },
      "outputs": [],
      "source": [
        "from selenium.webdriver.common.by import By\n",
        "from selenium import webdriver\n",
        "import time\n",
        "import os\n",
        "from selenium.webdriver.chrome.options import Options\n",
        "from bs4 import BeautifulSoup\n",
        "import pandas as pd\n",
        "import csv"
      ]
    },
    {
      "cell_type": "markdown",
      "metadata": {
        "id": "zA9_6lV6xSMT"
      },
      "source": [
        "### **Execute Scrape**"
      ]
    },
    {
      "cell_type": "code",
      "execution_count": null,
      "metadata": {
        "id": "vqj3jjiIxSMU"
      },
      "outputs": [],
      "source": [
        "class Scraper:\n",
        "    def __init__(self):\n",
        "        chrome_options = webdriver.ChromeOptions()\n",
        "        self.driver = webdriver.Chrome(options=chrome_options)\n",
        "\n",
        "    def get_data(self, query):\n",
        "        url = f'https://www.tokopedia.com/search?navsource=&ob=5&srp_component_id=02.01.00.00&srp_page_id=&srp_page_title=&st=product&q={query}'\n",
        "        self.driver.get(url)\n",
        "        time.sleep(2)\n",
        "        # Scroll to load more data\n",
        "        for _ in range(0, 6500, 500):\n",
        "            time.sleep(0.1)\n",
        "            self.driver.execute_script(\"window.scrollBy(0,500)\")\n",
        "\n",
        "        datas = []\n",
        "        elements = self.driver.find_elements(by=By.CLASS_NAME, value=\"prd_container-card\")\n",
        "        for element in elements:\n",
        "            img = element.find_element(by=By.XPATH, value=\"//img['css-1q9qc6z']\").get_attribute('src')\n",
        "            name = element.find_element(by=By.CLASS_NAME, value='css-3um8ox').text\n",
        "            price = element.find_element(by=By.CLASS_NAME, value='css-h66vau').text\n",
        "            city = element.find_element(by=By.XPATH, value=\"//span['prd_link-shop-loc']\").text\n",
        "            datas.append({\n",
        "                'img': img,\n",
        "                'name': name,\n",
        "                'price': price,\n",
        "                'city': city\n",
        "            })\n",
        "\n",
        "        return datas"
      ]
    },
    {
      "cell_type": "markdown",
      "metadata": {
        "id": "wcySTCW6xSMU"
      },
      "source": [
        "### **Execute Scrape and Transform to Dataset**"
      ]
    },
    {
      "cell_type": "code",
      "execution_count": null,
      "metadata": {
        "id": "WoyYsV4CxSMV"
      },
      "outputs": [],
      "source": [
        "if __name__ == \"__main__\":\n",
        "    query = input(\"Masukkan query pencarian produk: \")\n",
        "    scraper = Scraper()\n",
        "    datas = scraper.get_data(query)  # Changed from search_product(query) to get_data(query)\n",
        "    print(datas)\n",
        "    df = pd.DataFrame(datas)\n",
        "    df.to_csv('dataset-tokopedia.csv', index=False, quoting=csv.QUOTE_ALL)\n",
        "    print(\"Data telah disimpan dalam file 'dataset-tokopedia.csv'\")"
      ]
    },
    {
      "cell_type": "markdown",
      "metadata": {
        "id": "tsYxMv5XxSMV"
      },
      "source": [
        "### **Clean Dataset**"
      ]
    },
    {
      "cell_type": "code",
      "execution_count": null,
      "metadata": {
        "id": "P-JpgYqpxSMW"
      },
      "outputs": [],
      "source": [
        "df = pd.read_csv(\"dataset-tokopedia.csv\")\n",
        "\n",
        "# Clean the 'name' column by removing leading/trailing spaces and making it lowercase\n",
        "df['name'] = df['name'].str.strip().str.lower()\n",
        "\n",
        "# Remove duplicates\n",
        "df.drop_duplicates(inplace=True)\n",
        "\n",
        "# Save the cleaned data to a new CSV file\n",
        "df.to_csv(\"cleaned_data.csv\", index=False)\n",
        "\n",
        "# Print the cleaned data\n",
        "print(df)"
      ]
    }
  ],
  "metadata": {
    "kernelspec": {
      "display_name": "Python 3",
      "language": "python",
      "name": "python3"
    },
    "language_info": {
      "codemirror_mode": {
        "name": "ipython",
        "version": 3
      },
      "file_extension": ".py",
      "mimetype": "text/x-python",
      "name": "python",
      "nbconvert_exporter": "python",
      "pygments_lexer": "ipython3",
      "version": "3.11.9"
    },
    "colab": {
      "provenance": []
    }
  },
  "nbformat": 4,
  "nbformat_minor": 0
}